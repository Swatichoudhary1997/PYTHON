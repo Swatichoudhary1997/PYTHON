{
 "cells": [
  {
   "cell_type": "code",
   "execution_count": 21,
   "id": "7da2e29a-e373-435d-bd74-34c0441aff94",
   "metadata": {},
   "outputs": [
    {
     "name": "stdout",
     "output_type": "stream",
     "text": [
      "{'a': 1, 'b': 2, 'c': 3}\n"
     ]
    }
   ],
   "source": [
    "#1.Python|sort python dictionaries by key or value\n",
    "my_dict={'a':1,'b':2,'c':3}\n",
    "print(my_dict)\n"
   ]
  },
  {
   "cell_type": "code",
   "execution_count": 19,
   "id": "1cb0f361-8f0c-4d90-84d8-72e0b5ccceb6",
   "metadata": {},
   "outputs": [
    {
     "name": "stdout",
     "output_type": "stream",
     "text": [
      "0\n"
     ]
    }
   ],
   "source": [
    "#2.Handling missing key in python dictionaries:\n",
    "my_dict={'a':1,'b':2}\n",
    "value=my_dict.get('c',0)\n",
    "print(value)"
   ]
  },
  {
   "cell_type": "code",
   "execution_count": 1,
   "id": "5a9f4d05-bb70-4a26-84c7-eb66839a58be",
   "metadata": {},
   "outputs": [
    {
     "name": "stdout",
     "output_type": "stream",
     "text": [
      "[1, 2, 3]\n"
     ]
    }
   ],
   "source": [
    "#3.Python dictionary with keys having multiple inputs:\n",
    "my_dict={'apple':[1,2,3],\n",
    "         'banana':[2,3],\n",
    "         'cherry':[3]}\n",
    "print(my_dict['apple'])"
   ]
  },
  {
   "cell_type": "code",
   "execution_count": 3,
   "id": "bf333e24-b205-48d7-bfa7-388b828a587c",
   "metadata": {},
   "outputs": [
    {
     "name": "stdout",
     "output_type": "stream",
     "text": [
      "the sum of all items in a dictionary dict_values([10, 20, 30])\n"
     ]
    }
   ],
   "source": [
    "#4.Python program to find the sum of all items in a dictionary:\n",
    "my_dict={'a':10,'b':20,'c':30}\n",
    "total_sum=(my_dict.values())\n",
    "print(\"the sum of all items in a dictionary\",total_sum)"
   ]
  },
  {
   "cell_type": "code",
   "execution_count": 5,
   "id": "1d5d4ca4-daeb-47ef-8ee8-94ae6ec92214",
   "metadata": {},
   "outputs": [
    {
     "name": "stdout",
     "output_type": "stream",
     "text": [
      "the size of a dictionary: 3\n"
     ]
    }
   ],
   "source": [
    "#5.Python program to find the size of a dictionary:\n",
    "my_dict={'a':10,'b':20,'c':30}\n",
    "size=len(my_dict)\n",
    "print(\"the size of a dictionary:\",size)"
   ]
  },
  {
   "cell_type": "code",
   "execution_count": 152,
   "id": "c38581b2-0572-4fc0-ae29-03ec4c5df3bc",
   "metadata": {},
   "outputs": [
    {
     "name": "stdout",
     "output_type": "stream",
     "text": [
      "[{'name': 'aarav', 'age': 25}, {'name': 'navya', 'age': 35}, {'name': 'anmol', 'age': 45}]\n"
     ]
    }
   ],
   "source": [
    "#6.Ways to sort list of dictionaries by values in python-using itemgetter:\n",
    "data=[\n",
    "    {'name':'aarav','age':25},\n",
    "    {'name':'navya','age':35},\n",
    "    {'name':'anmol','age':45}\n",
    "]\n",
    "sorted_data=sorted(data,key=itemgetter('age'))\n",
    "print(sorted_data)\n"
   ]
  },
  {
   "cell_type": "code",
   "execution_count": 7,
   "id": "719ebf3d-c3b7-4795-aee1-399851dcad27",
   "metadata": {},
   "outputs": [
    {
     "name": "stdout",
     "output_type": "stream",
     "text": [
      "[{'name': 'rahul', 'age': 25}, {'name': 'sikansh', 'age': 35}, {'name': 'kanu', 'age': 45}]\n"
     ]
    }
   ],
   "source": [
    "#7.Ways to sort list of dictionaries by values in python -using lambda function:\n",
    "data=[\n",
    "    {'name':'rahul','age':25},\n",
    "    {'name':'sikansh','age':35},\n",
    "    {'name':'kanu','age':45}\n",
    "]\n",
    "sorted_data=sorted(data,key=lambda x :x['age'])\n",
    "print(sorted_data)\n",
    "    \n"
   ]
  },
  {
   "cell_type": "code",
   "execution_count": 9,
   "id": "0c89666c-c72d-4b97-b81a-cae4ef13f8e2",
   "metadata": {},
   "outputs": [
    {
     "name": "stdout",
     "output_type": "stream",
     "text": [
      "{'a': 1, 'b': 3, 'c': 4}\n"
     ]
    }
   ],
   "source": [
    "#8.Python | Merging two dictionaries:\n",
    "dict1={'a':1,'b':2}\n",
    "dict2={'b':3,'c':4}\n",
    "merged_dict=dict1|dict2\n",
    "print(merged_dict)"
   ]
  }
 ],
 "metadata": {
  "kernelspec": {
   "display_name": "Python 3 (ipykernel)",
   "language": "python",
   "name": "python3"
  },
  "language_info": {
   "codemirror_mode": {
    "name": "ipython",
    "version": 3
   },
   "file_extension": ".py",
   "mimetype": "text/x-python",
   "name": "python",
   "nbconvert_exporter": "python",
   "pygments_lexer": "ipython3",
   "version": "3.12.4"
  }
 },
 "nbformat": 4,
 "nbformat_minor": 5
}
