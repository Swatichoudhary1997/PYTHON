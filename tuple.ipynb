{
 "cells": [
  {
   "cell_type": "code",
   "execution_count": 3,
   "id": "9affc6d3-877b-469f-bb03-23fc57d93ff0",
   "metadata": {},
   "outputs": [
    {
     "name": "stdout",
     "output_type": "stream",
     "text": [
      "('orange', 'grapes', 'guava')\n"
     ]
    }
   ],
   "source": [
    "#create a tuple:\n",
    "thistuple=(\"orange\",\"grapes\",\"guava\")\n",
    "print(thistuple)"
   ]
  },
  {
   "cell_type": "code",
   "execution_count": 5,
   "id": "07288a55-7424-4af5-9a6f-164b7b64adc9",
   "metadata": {},
   "outputs": [
    {
     "name": "stdout",
     "output_type": "stream",
     "text": [
      "('apple', 'banana', 'cherry', 'apple', 'cherry')\n"
     ]
    }
   ],
   "source": [
    "#tuples allow duplicate values:\n",
    "thistuple=(\"apple\",\"banana\",\"cherry\",\"apple\",\"cherry\")\n",
    "print(thistuple)"
   ]
  },
  {
   "cell_type": "code",
   "execution_count": 15,
   "id": "f447f588-596b-4812-903f-0e3e02bcc4e0",
   "metadata": {},
   "outputs": [
    {
     "name": "stdout",
     "output_type": "stream",
     "text": [
      "3\n"
     ]
    }
   ],
   "source": [
    "#print the number of items in the tuple:\n",
    "thistuple=(\"apple\",\"banana\",\"cherrry\")\n",
    "print(len(thistuple))"
   ]
  },
  {
   "cell_type": "code",
   "execution_count": 21,
   "id": "c92a4f32-fa28-4936-8c8d-b379875b2506",
   "metadata": {},
   "outputs": [
    {
     "name": "stdout",
     "output_type": "stream",
     "text": [
      "<class 'tuple'>\n",
      "<class 'str'>\n"
     ]
    }
   ],
   "source": [
    "#one item tuple,remember the comma:\n",
    "thistuple=(\"apple\",)\n",
    "print(type(thistuple))\n",
    "#NOT a tuple\n",
    "thistuple=(\"apple\")\n",
    "print(type(thistuple))"
   ]
  },
  {
   "cell_type": "code",
   "execution_count": 23,
   "id": "15345721-6d27-4070-a643-269a05c73d5f",
   "metadata": {},
   "outputs": [
    {
     "name": "stdout",
     "output_type": "stream",
     "text": [
      "('apple', 'banana', 'cherry')\n",
      "(2, 5, 8, 6, 4)\n",
      "(True, False, True)\n"
     ]
    }
   ],
   "source": [
    "#string int and boolean data types:\n",
    "tuple1=(\"apple\",\"banana\",\"cherry\")\n",
    "tuple2=(2,5,8,6,4)\n",
    "tuple3=(True,False,True)\n",
    "print(tuple1)\n",
    "print(tuple2)\n",
    "print(tuple3)"
   ]
  },
  {
   "cell_type": "code",
   "execution_count": 25,
   "id": "78f01fae-e2fa-4750-866f-a444c1b4358b",
   "metadata": {},
   "outputs": [
    {
     "name": "stdout",
     "output_type": "stream",
     "text": [
      "('abc', 30, True, 50, 'male')\n"
     ]
    }
   ],
   "source": [
    "#a tuple with string, integers and boolean values:\n",
    "thistuple=(\"abc\",30,True,50,\"male\")\n",
    "print(thistuple)"
   ]
  },
  {
   "cell_type": "code",
   "execution_count": 29,
   "id": "ad45732c-944e-4e32-8e28-38df7ea8fb56",
   "metadata": {},
   "outputs": [
    {
     "name": "stdout",
     "output_type": "stream",
     "text": [
      "('kanu', 62, True, False, 52, 'manisha')\n"
     ]
    }
   ],
   "source": [
    "thistuple=(\"kanu\",62,True,False,52,\"manisha\")\n",
    "print(thistuple)"
   ]
  },
  {
   "cell_type": "code",
   "execution_count": 31,
   "id": "0e5b1d8d-d5ae-4927-b272-b9f609b90cd4",
   "metadata": {},
   "outputs": [
    {
     "name": "stdout",
     "output_type": "stream",
     "text": [
      "('kanishka', 87, True, 95, 'radha', False, 60)\n"
     ]
    }
   ],
   "source": [
    "thistuple=(\"kanishka\",87,True,95,\"radha\",False,60)\n",
    "print(thistuple)"
   ]
  },
  {
   "cell_type": "code",
   "execution_count": 33,
   "id": "ec1904a6-6084-4c7b-bc38-fed476c31ffc",
   "metadata": {},
   "outputs": [
    {
     "name": "stdout",
     "output_type": "stream",
     "text": [
      "('abc', 50, True, False, 89, 74, 'male')\n"
     ]
    }
   ],
   "source": [
    "#a tuple with string,integers and boolean values:\n",
    "tuple1=(\"abc\",50,True,False,89,74,\"male\")\n",
    "print(tuple1)"
   ]
  },
  {
   "cell_type": "code",
   "execution_count": 35,
   "id": "7bfcf363-11c2-4486-a1dd-5305de5fc17a",
   "metadata": {},
   "outputs": [
    {
     "name": "stdout",
     "output_type": "stream",
     "text": [
      "<class 'tuple'>\n"
     ]
    }
   ],
   "source": [
    "#what is the data type of a tuple?\n",
    "mytuple=(\"apple\",\"banana\",\"grapes\")\n",
    "print(type(mytuple))"
   ]
  },
  {
   "cell_type": "code",
   "execution_count": 37,
   "id": "3b78faa4-a173-4860-bbb1-2c6c3b56e80f",
   "metadata": {},
   "outputs": [
    {
     "name": "stdout",
     "output_type": "stream",
     "text": [
      "('apple', 'banana', 'cherry')\n"
     ]
    }
   ],
   "source": [
    "#using the tuple()method to make a tuple:\n",
    "thistuple=tuple((\"apple\",\"banana\",\"cherry\")) #note a double round-brackets\n",
    "print(thistuple)"
   ]
  },
  {
   "cell_type": "code",
   "execution_count": null,
   "id": "c42f36a3-1dd2-4886-9311-38242defd3c9",
   "metadata": {},
   "outputs": [],
   "source": []
  }
 ],
 "metadata": {
  "kernelspec": {
   "display_name": "Python 3 (ipykernel)",
   "language": "python",
   "name": "python3"
  },
  "language_info": {
   "codemirror_mode": {
    "name": "ipython",
    "version": 3
   },
   "file_extension": ".py",
   "mimetype": "text/x-python",
   "name": "python",
   "nbconvert_exporter": "python",
   "pygments_lexer": "ipython3",
   "version": "3.12.4"
  }
 },
 "nbformat": 4,
 "nbformat_minor": 5
}
